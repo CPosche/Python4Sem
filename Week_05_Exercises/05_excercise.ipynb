{
 "cells": [
  {
   "cell_type": "code",
   "execution_count": 2,
   "metadata": {},
   "outputs": [
    {
     "name": "stdout",
     "output_type": "stream",
     "text": [
      "428864\n",
      "552419\n",
      "28.809832487688404\n",
      "None\n"
     ]
    }
   ],
   "source": [
    "import pandas as pd\n",
    "import numpy as np\n",
    "import matplotlib.pyplot as plt\n",
    "\n",
    "#8\n",
    "data = pd.read_csv('FOLK1A.csv', delimiter=';')\n",
    "\n",
    "data2008 = data.loc[(data['OMRÅDE'].isin(['Hele landet']) \n",
    "& data['TID'].isin(['2008K1'])\n",
    "& data['CIVILSTAND'].isin(['Fraskilt']) \n",
    "& data['ALDER'].isin(['I alt']) \n",
    "& data['KØN'].isin(['I alt']))] \n",
    "\n",
    "data2020 = data.loc[(data['OMRÅDE'].isin(['Hele landet']) \n",
    "& data['TID'].isin(['2020K4'])\n",
    "& data['CIVILSTAND'].isin(['Fraskilt']) \n",
    "& data['ALDER'].isin(['I alt']) \n",
    "& data['KØN'].isin(['I alt']))] \n",
    "\n",
    "print(data2008['INDHOLD'].values[0])\n",
    "print(data2020['INDHOLD'].values[0])\n",
    "\n",
    "percentile = ((data2020['INDHOLD'].values[0] - data2008['INDHOLD'].values[0])/data2008['INDHOLD'].values[0])*100\n",
    "\n",
    "print(percentile)\n",
    "\n",
    "#9\n",
    "data = pd.read_csv(\"FOLK1A_1.csv\", delimiter=\";\")\n",
    "\n",
    "\n",
    "\n",
    "\n",
    "\n",
    "\n",
    "\n",
    "\n",
    "\n",
    "\n",
    "\n"
   ]
  }
 ],
 "metadata": {
  "kernelspec": {
   "display_name": "Python 3",
   "language": "python",
   "name": "python3"
  },
  "language_info": {
   "codemirror_mode": {
    "name": "ipython",
    "version": 3
   },
   "file_extension": ".py",
   "mimetype": "text/x-python",
   "name": "python",
   "nbconvert_exporter": "python",
   "pygments_lexer": "ipython3",
   "version": "3.11.2"
  },
  "orig_nbformat": 4
 },
 "nbformat": 4,
 "nbformat_minor": 2
}
