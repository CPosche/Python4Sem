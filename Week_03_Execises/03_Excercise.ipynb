{
 "cells": [
  {
   "attachments": {},
   "cell_type": "markdown",
   "metadata": {},
   "source": [
    "Ex 1 Classes"
   ]
  },
  {
   "cell_type": "code",
   "execution_count": 3,
   "metadata": {},
   "outputs": [
    {
     "data": {
      "text/plain": [
       "'you wrote 10 students into studentList.csv'"
      ]
     },
     "execution_count": 3,
     "metadata": {},
     "output_type": "execute_result"
    }
   ],
   "source": [
    "import random\n",
    "\n",
    "class Student():\n",
    "    def __init__(self, name, gender, data_sheet, image_url):\n",
    "        self.name = name\n",
    "        self.gender = gender\n",
    "        self.data_sheet = data_sheet\n",
    "        self.image_url = image_url\n",
    "    \n",
    "    def get_avg_grade(self):\n",
    "        to_avg = 0\n",
    "        for grade in self.data_sheet.get_grades_as_list():\n",
    "            to_avg += grade\n",
    "        return to_avg/len(self.data_sheet.get_grades_as_list())\n",
    "\n",
    "    def __str__(self):\n",
    "        return 'stud_name: {name}'.format(name = self.name)\n",
    "\n",
    "        \n",
    "\n",
    "class DataSheet():\n",
    "    def __init__(self, courses = []):\n",
    "        self.courses = courses\n",
    "\n",
    "    def get_grades_as_list(self):\n",
    "        grade_list = []\n",
    "        for course in self.courses:\n",
    "            if(course.grade != None):\n",
    "                grade_list.append(course.grade)\n",
    "        return grade_list\n",
    "\n",
    "\n",
    "class Course():\n",
    "    def __init__(self, name, classroom, teacher, ETCS, grade=None):\n",
    "        self.name = name\n",
    "        self.classroom = classroom\n",
    "        self.teacher = teacher\n",
    "        self.ETCS = ETCS\n",
    "        self.grade = grade\n",
    "\n",
    "    def __eq__(self, other):\n",
    "        if isinstance(other, Course):\n",
    "            return self.name == other.name\n",
    "        return False\n",
    "\n",
    "\n",
    "course1 = Course(\"TypeScript\", \"2.03\", \"Jörg\", 55)\n",
    "course2 = Course(\"GameDev\", \"2.03\", \"Jesper\", 55)\n",
    "course3 = Course(\"Python\", \"2.03\", \"Thomas\", 55)\n",
    "course4 = Course(\"Robotics\", \"2.14\", \"Tobias\", 55)\n",
    "course5 = Course(\"Security\", \"2.03\", \"Daniel\", 55)\n",
    "names = ['Alice', 'Bob', 'Charlie', 'Dave', 'Eve', 'Frank', 'Grace', 'Heidi', 'Ivan', 'Judy', 'Kevin', 'Linda', 'Mallory', 'Nancy', 'Oscar', 'Peggy', 'Quentin', 'Randy', 'Sybil', 'Trent', 'Ursula', 'Victor', 'Wendy', 'Xavier', 'Yvonne', 'Zoe']\n",
    "\n",
    "course_list = [course1, course2, course3, course4, course5]\n",
    "grades = [0.0, 0.2, 4, 7, 10, 12]\n",
    "\n",
    "\n",
    "def generate_students(n):\n",
    "    student_list = []\n",
    "    for i in range(1, n+1):\n",
    "        courses = []\n",
    "        for j in range(1, random.randrange(1, len(course_list)+1)):\n",
    "            course = random.choice(course_list)\n",
    "            if(not courses.__contains__(course)):\n",
    "                if random.randint(0, 1) == 0:\n",
    "                    course.grade = random.choice(grades)\n",
    "                courses.append(course)\n",
    "        student_list.append(Student(random.choice(names), random.choice(['m', 'f']), DataSheet(courses), \"default.png\"))\n",
    "    return student_list\n",
    "\n",
    "def write_students_to_file(file, students = []):\n",
    "    with open(file, 'a') as file:\n",
    "        for student in students:\n",
    "            file.write('{student}\\n'.format(student = student))\n",
    "    return 'you wrote {amount} students into {file}'.format(amount = len(students), file = file.name)\n",
    "\n",
    "\n",
    "generated_students = generate_students(10)\n",
    "write_students_to_file(\"studentList.csv\", generated_students)\n"
   ]
  }
 ],
 "metadata": {
  "kernelspec": {
   "display_name": "Python 3",
   "language": "python",
   "name": "python3"
  },
  "language_info": {
   "codemirror_mode": {
    "name": "ipython",
    "version": 3
   },
   "file_extension": ".py",
   "mimetype": "text/x-python",
   "name": "python",
   "nbconvert_exporter": "python",
   "pygments_lexer": "ipython3",
   "version": "3.10.10"
  },
  "orig_nbformat": 4,
  "vscode": {
   "interpreter": {
    "hash": "5dfa65be42c2d5f30e8678b08aab0206abc6098dbb196d65557b8dc168e4f7f4"
   }
  }
 },
 "nbformat": 4,
 "nbformat_minor": 2
}
