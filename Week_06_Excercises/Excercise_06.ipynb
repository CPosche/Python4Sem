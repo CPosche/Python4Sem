{
 "cells": [
  {
   "cell_type": "code",
   "execution_count": 6,
   "metadata": {},
   "outputs": [
    {
     "name": "stdout",
     "output_type": "stream",
     "text": [
      "Page Title:\n",
      "Alan Turing - Wikipedia\n",
      "\n",
      "First paragraph containing content:\n",
      "Alan Mathison Turing OBE FRS (/ˈtjʊərɪŋ/; 23 June 1912 – 7 June 1954) was an English mathematician, computer scientist, logician, cryptanalyst, philosopher, and theoretical biologist.[6] Turing was highly influential in the development of theoretical computer science, providing a formalisation of the concepts of algorithm and computation with the Turing machine, which can be considered a model of a general-purpose computer.[7][8][9] He is widely considered to be the father of theoretical computer science and artificial intelligence.[10]\n",
      "\n",
      "Table of Contents:\n",
      "Contents hide\n",
      "(Top)\n",
      "Early life and education\n",
      "Toggle Early life and education subsection\n",
      "Career and research\n",
      "Toggle Career and research subsection\n",
      "Personal life\n",
      "Toggle Personal life subsection\n",
      "Legacy\n",
      "Toggle Legacy subsection\n",
      "Notes and references\n",
      "Toggle Notes and references subsection\n",
      "Further reading\n",
      "Toggle Further reading subsection\n",
      "External links\n",
      "\n",
      "Table of Contents Dictionary:\n",
      "{1: '#', 2: '#Early_life_and_education', 3: '#Family', 4: '#School', 5: '#Christopher_Morcom', 6: '#University_and_work_on_computability', 7: '#Career_and_research', 8: '#Cryptanalysis', 9: '#Bombe', 10: '#Action_This_Day', 11: '#Hut_8_and_the_naval_Enigma', 12: '#Turingery', 13: '#Delilah', 14: '#Early_computers_and_the_Turing_test', 15: '#Pattern_formation_and_mathematical_biology', 16: '#Personal_life', 17: '#Engagement', 18: '#Homosexuality_and_indecency_conviction', 19: '#Treasure', 20: '#Death', 21: '#Government_apology_and_pardon', 22: '#Legacy', 23: '#Awards,_honours,_and_tributes', 24: '#Centenary_celebrations', 25: '#Notes_and_references', 26: '#Notes', 27: '#References', 28: '#Sources', 29: '#Further_reading', 30: '#Articles', 31: '#Books', 32: '#External_links'}\n",
      "\n",
      "TOC entry for 'Early life':\n",
      "#Early_life_and_education\n"
     ]
    }
   ],
   "source": [
    "import selenium as se\n",
    "from selenium import webdriver as wd\n",
    "from selenium.webdriver.common.keys import Keys\n",
    "from selenium.webdriver.common.by import By\n",
    "from webdriver_manager.chrome import ChromeDriverManager\n",
    "from selenium.webdriver.chrome.service import Service\n",
    "from selenium.webdriver.chrome.options import Options\n",
    "import bs4\n",
    "import json\n",
    "\n",
    "url = 'https://en.wikipedia.org/wiki/Alan_Turing'\n",
    "options = Options()\n",
    "browser = wd.Chrome(service=Service(ChromeDriverManager().install()), options=options)\n",
    "browser.get(url)\n",
    "browser.maximize_window()\n",
    "browser.implicitly_wait(2)\n",
    "print(\"Page Title:\")\n",
    "print(browser.title)\n",
    "print()\n",
    "dataP = browser.find_elements(by=By.TAG_NAME, value='p')\n",
    "print(\"First paragraph containing content:\")\n",
    "for p in dataP:\n",
    "    if(p.text != ''): \n",
    "        print(p.text)\n",
    "        break\n",
    "print()\n",
    "dataTOC = browser.find_element(by=By.XPATH, value='/html/body/div[1]/div/nav/div/div')\n",
    "print(\"Table of Contents:\")\n",
    "print(dataTOC.text)\n",
    "print()\n",
    "TOCDict = {}\n",
    "for i, li in enumerate(dataTOC.find_elements(by=By.TAG_NAME, value='li')):\n",
    "    TOCDict[i+1] = '#' + li.find_element(by=By.TAG_NAME, value='a').get_attribute('href').split('#')[1]\n",
    "print(\"Table of Contents Dictionary:\")\n",
    "print(TOCDict)\n",
    "print()\n",
    "\n",
    "#create a function that takes a word and looks for it in TOCDict and returns the corresponding value\n",
    "def findTOC(word : str):\n",
    "    for key, value in TOCDict.items():\n",
    "        if(word.upper() in value.upper()):\n",
    "            return value\n",
    "    return None\n",
    "\n",
    "#find the TOC entry for \"Early life\"\n",
    "print(\"TOC entry for 'Early life':\")\n",
    "print(findTOC('Early_life'))\n",
    "if(n:=findTOC('Fam')):\n",
    "    browser.get(url + n)"
   ]
  }
 ],
 "metadata": {
  "kernelspec": {
   "display_name": "Python 3",
   "language": "python",
   "name": "python3"
  },
  "language_info": {
   "codemirror_mode": {
    "name": "ipython",
    "version": 3
   },
   "file_extension": ".py",
   "mimetype": "text/x-python",
   "name": "python",
   "nbconvert_exporter": "python",
   "pygments_lexer": "ipython3",
   "version": "3.11.2"
  },
  "orig_nbformat": 4
 },
 "nbformat": 4,
 "nbformat_minor": 2
}
