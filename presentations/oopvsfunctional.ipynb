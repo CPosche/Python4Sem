{
 "cells": [
  {
   "attachments": {},
   "cell_type": "markdown",
   "metadata": {},
   "source": [
    "nogle af fordelene ved at lave oop er at du kan bruge polymorphism\n",
    "oop er også bedre til komplekse opgaver da vi gør brug af objekter som kan indeholde divers metoder og variabler"
   ]
  },
  {
   "cell_type": "code",
   "execution_count": 2,
   "metadata": {},
   "outputs": [
    {
     "name": "stdout",
     "output_type": "stream",
     "text": [
      "15\n",
      "3.0\n"
     ]
    }
   ],
   "source": [
    "class NumberList():\n",
    "    def __init__(self, numbers):\n",
    "        self.numbers = numbers\n",
    "\n",
    "    def sum(self):\n",
    "        return sum(self.numbers)\n",
    "\n",
    "    def average(self):\n",
    "        return sum(self.numbers) / len(self.numbers)\n",
    "\n",
    "    def append(self, number):\n",
    "        self.numbers.append(number)\n",
    "\n",
    "numbers = NumberList([1, 2, 3, 4])\n",
    "numbers.append(5)\n",
    "print(numbers.sum()) # output: 15\n",
    "print(numbers.average()) # output: 3"
   ]
  },
  {
   "attachments": {},
   "cell_type": "markdown",
   "metadata": {},
   "source": [
    "nogle af fordelene ved funktionel programmering er at det kan virke mere simpelt at forstå for nybegyndere da koden ikke bliver så kompleks, samtidigt kan funktionel programmering gøre koden mere forudsigelig og pålidelig"
   ]
  },
  {
   "cell_type": "code",
   "execution_count": 1,
   "metadata": {},
   "outputs": [
    {
     "ename": "",
     "evalue": "",
     "output_type": "error",
     "traceback": [
      "\u001b[1;31mCanceled future for execute_request message before replies were done"
     ]
    },
    {
     "ename": "",
     "evalue": "",
     "output_type": "error",
     "traceback": [
      "\u001b[1;31mThe Kernel crashed while executing code in the the current cell or a previous cell. Please review the code in the cell(s) to identify a possible cause of the failure. Click <a href='https://aka.ms/vscodeJupyterKernelCrash'>here</a> for more info. View Jupyter <a href='command:jupyter.viewOutput'>log</a> for further details."
     ]
    }
   ],
   "source": [
    "numbers = [1, 2, 3, 4]\n",
    "\n",
    "def sum(numbers):\n",
    "    return sum(numbers)\n",
    "\n",
    "def average(numbers):\n",
    "    return sum(numbers) / len(numbers)\n",
    "\n",
    "def append(numbers, number):\n",
    "    return numbers + [number]\n",
    "\n",
    "numbers = append(numbers, 5)\n",
    "print(sum(numbers)) # output: 15\n",
    "print(average(numbers)) # output: 3\n"
   ]
  },
  {
   "attachments": {},
   "cell_type": "markdown",
   "metadata": {},
   "source": [
    "eksempel på polymorphism"
   ]
  },
  {
   "cell_type": "code",
   "execution_count": 44,
   "metadata": {},
   "outputs": [
    {
     "name": "stdout",
     "output_type": "stream",
     "text": [
      "10\n",
      "462\n",
      "46.2\n",
      "36.0\n"
     ]
    }
   ],
   "source": [
    "class Array():\n",
    "    def __init__(self, capacity):\n",
    "        self.capacity = capacity\n",
    "        self.length = 0\n",
    "        self.data = [None] * capacity\n",
    "    \n",
    "    def __str__(self):\n",
    "        return str(self.data[:self.length])\n",
    "    \n",
    "    def __len__(self):\n",
    "        return self.length\n",
    "    \n",
    "    def __getitem__(self, index):\n",
    "        if index < 0 or index >= self.length:\n",
    "            raise IndexError(\"Index out of range\")\n",
    "        return self.data[index]\n",
    "    \n",
    "    def __setitem__(self, index, value):\n",
    "        if index < 0 or index >= self.length:\n",
    "            raise IndexError(\"Index out of range\")\n",
    "        self.data[index] = value\n",
    "    \n",
    "    def append(self, value):\n",
    "        if self.length == self.capacity:\n",
    "            self._resize(2 * self.capacity)\n",
    "        self.data[self.length] = value\n",
    "        self.length += 1\n",
    "    \n",
    "    def _resize(self, new_capacity):\n",
    "        new_data = [None] * new_capacity\n",
    "        for i in range(self.length):\n",
    "            new_data[i] = self.data[i]\n",
    "        self.data = new_data\n",
    "        self.capacity = new_capacity\n",
    "\n",
    "\n",
    "class IntArray(Array):\n",
    "    def __init__(self, capacity):\n",
    "        super().__init__(capacity)\n",
    "\n",
    "    def __setitem__(self, index, value):\n",
    "        if isinstance(value, int):\n",
    "            if index < 0 or index >= self.length:\n",
    "                raise IndexError(\"Index out of range\")\n",
    "            self.data[index] = value\n",
    "        else:\n",
    "            raise TypeError(\"Value is not of type int\")\n",
    "\n",
    "    def append(self, value):\n",
    "        if isinstance(value, int):\n",
    "            if self.length == self.capacity:\n",
    "                self._resize(2 * self.capacity)\n",
    "            self.data[self.length] = value\n",
    "            self.length += 1\n",
    "        else:\n",
    "            raise TypeError(\"Value is not of type int\")\n",
    "\n",
    "    def sum(self):\n",
    "        sum = 0\n",
    "        for i in self.data:\n",
    "            if isinstance(i, int):\n",
    "                sum += i\n",
    "        return sum\n",
    "\n",
    "    def avg(self):\n",
    "        to_avg = 0\n",
    "        for i in self.data:\n",
    "            if isinstance(i, int):\n",
    "                to_avg += i\n",
    "        return to_avg / self.length\n",
    "\n",
    "    def median(self):\n",
    "        filtered = filter(lambda x: isinstance(x, int), self.data)\n",
    "        sorted_arr = []\n",
    "        for i in filtered:\n",
    "            sorted_arr.append(i)\n",
    "\n",
    "        n = len(sorted_arr)\n",
    "        if n % 2 == 0:\n",
    "            median = (sorted_arr[n//2 - 1] + sorted_arr[n//2]) / 2\n",
    "        else:\n",
    "            median = sorted_arr[n//2]\n",
    "        return median\n",
    "\n",
    "\n",
    "\n",
    "\n",
    "\n",
    "\n",
    "\n",
    "array = IntArray(10)\n",
    "\n",
    "array.append(1)\n",
    "array.append(22)\n",
    "array.append(36)\n",
    "array.append(41)\n",
    "array.append(5)\n",
    "array.append(67)\n",
    "array.append(7)\n",
    "array.append(82)\n",
    "array.append(91)\n",
    "array.append(110)\n",
    "\n",
    "print(len(array))\n",
    "print(array.sum())\n",
    "print(array.avg())\n",
    "print(array.median())"
   ]
  }
 ],
 "metadata": {
  "kernelspec": {
   "display_name": "Python 3",
   "language": "python",
   "name": "python3"
  },
  "language_info": {
   "codemirror_mode": {
    "name": "ipython",
    "version": 3
   },
   "file_extension": ".py",
   "mimetype": "text/x-python",
   "name": "python",
   "nbconvert_exporter": "python",
   "pygments_lexer": "ipython3",
   "version": "3.10.10"
  },
  "orig_nbformat": 4,
  "vscode": {
   "interpreter": {
    "hash": "5dfa65be42c2d5f30e8678b08aab0206abc6098dbb196d65557b8dc168e4f7f4"
   }
  }
 },
 "nbformat": 4,
 "nbformat_minor": 2
}
