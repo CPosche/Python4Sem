{
 "cells": [
  {
   "cell_type": "code",
   "execution_count": 66,
   "metadata": {},
   "outputs": [
    {
     "name": "stdout",
     "output_type": "stream",
     "text": [
      "(2, 2, 2)\n",
      "6\n",
      "6\n"
     ]
    }
   ],
   "source": [
    "import numpy as np\n",
    "\n",
    "\n",
    "arr = np.array([\n",
    "    [[1, 2],\n",
    "      [3, 4]],\n",
    "    [[5, 6],\n",
    "      [7, 8]]\n",
    "    ])\n",
    "\n",
    "print(arr.shape) # shape: (2, 2 ,2)\n",
    "print(arr[1, 0, 1])  # Output: 6\n",
    "print(arr[1][0][1])  # Output: 6\n"
   ]
  },
  {
   "cell_type": "code",
   "execution_count": 67,
   "metadata": {},
   "outputs": [
    {
     "name": "stdout",
     "output_type": "stream",
     "text": [
      "[1 2]\n",
      "[6 8]\n",
      "[[1 3]\n",
      " [5 7]]\n"
     ]
    }
   ],
   "source": [
    "\n",
    "\n",
    "print(arr[0, 0, :])  \n",
    "\n",
    "\n",
    "print(arr[1, :, 1]) \n",
    "\n",
    "\n",
    "print(arr[:, :, 0]) "
   ]
  },
  {
   "cell_type": "code",
   "execution_count": 68,
   "metadata": {},
   "outputs": [
    {
     "name": "stdout",
     "output_type": "stream",
     "text": [
      "[[1 2]\n",
      " [3 4]\n",
      " [5 6]\n",
      " [7 8]]\n",
      "\n",
      "[[[1 5]\n",
      "  [3 7]]\n",
      "\n",
      " [[2 6]\n",
      "  [4 8]]]\n",
      "\n",
      "[1 2 3 4 5 6 7 8]\n",
      "\n",
      "[6 7 8]\n",
      "\n",
      "[1 2 3 6 7 8]\n"
     ]
    }
   ],
   "source": [
    "\n",
    "reshaped_arr = arr.reshape(4, 2)\n",
    "print(reshaped_arr)\n",
    "print()\n",
    "\n",
    "transposed_arr = arr.transpose()\n",
    "print(transposed_arr)\n",
    "print()\n",
    "\n",
    "flattened_arr = arr.flatten()\n",
    "print(flattened_arr)\n",
    "print()\n",
    "\n",
    "\n",
    "mask = (arr[:, :, :] > 5)\n",
    "doublemask = (arr[:, :, :] > 5) | (arr[:, :, :] < 4)\n",
    "masked_arr = arr[mask]\n",
    "doublemasked_arr = arr[doublemask]\n",
    "print(masked_arr)\n",
    "print()\n",
    "print(doublemasked_arr)"
   ]
  }
 ],
 "metadata": {
  "kernelspec": {
   "display_name": "Python 3",
   "language": "python",
   "name": "python3"
  },
  "language_info": {
   "codemirror_mode": {
    "name": "ipython",
    "version": 3
   },
   "file_extension": ".py",
   "mimetype": "text/x-python",
   "name": "python",
   "nbconvert_exporter": "python",
   "pygments_lexer": "ipython3",
   "version": "3.11.2"
  },
  "orig_nbformat": 4,
  "vscode": {
   "interpreter": {
    "hash": "278f1ac671181958afd74ae4a8de96aaee34522111c99c5d2208196c119f3db1"
   }
  }
 },
 "nbformat": 4,
 "nbformat_minor": 2
}
