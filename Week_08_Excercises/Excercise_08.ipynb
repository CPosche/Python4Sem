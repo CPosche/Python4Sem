{
 "cells": [
  {
   "cell_type": "code",
   "execution_count": 25,
   "metadata": {},
   "outputs": [
    {
     "name": "stderr",
     "output_type": "stream",
     "text": [
      "C:\\Users\\caspe\\AppData\\Local\\Temp\\ipykernel_3352\\1643596529.py:12: DeprecationWarning: executable_path has been deprecated, please pass in a Service object\n",
      "  driver = wd.Chrome(ChromeDriverManager().install())\n"
     ]
    },
    {
     "name": "stdout",
     "output_type": "stream",
     "text": [
      "39\n",
      "0\n"
     ]
    }
   ],
   "source": [
    "import selenium as se\n",
    "from selenium import webdriver as wd\n",
    "from selenium.webdriver.common.keys import Keys\n",
    "from selenium.webdriver.common.by import By\n",
    "from webdriver_manager.chrome import ChromeDriverManager\n",
    "from selenium.webdriver.chrome.service import Service\n",
    "from selenium.webdriver.chrome.options import Options\n",
    "import bs4\n",
    "import json\n",
    "\n",
    "url = 'https://www.dba.dk/soeg/?soeg=iphone'\n",
    "driver = wd.Chrome(ChromeDriverManager().install())\n",
    "driver.get(url)\n",
    "driver.maximize_window()\n",
    "driver.implicitly_wait(5)\n",
    "\n",
    "soup = bs4.BeautifulSoup(driver.page_source, 'html.parser')\n",
    "\n",
    "page = soup.find('div', {'id': 'page'})\n",
    "content = page.find('div', {'id': 'content'})\n",
    "layout = content.find('div', {'class': 'sidebar-layout'})\n",
    "section = layout.find('section', {'class': 'sidebar-left'})\n",
    "table = section.find('table', {'class': 'search-result'})\n",
    "tbody = table.find('tbody')\n",
    "trList = tbody.find_all('tr', {'class': 'dbaListing'})\n",
    "listedToday = []\n",
    "\n",
    "print(len(trList))\n",
    "for tr in trList:\n",
    "    foundtd = tr.find('td', {'title': 'Dato'})\n",
    "    if foundtd.get_text(separator=' ') == \"I dag\":\n",
    "        listedToday.append(tr)\n",
    "print(len(listedToday))\n",
    "\n",
    "\n",
    "\n"
   ]
  }
 ],
 "metadata": {
  "kernelspec": {
   "display_name": "Python 3",
   "language": "python",
   "name": "python3"
  },
  "language_info": {
   "codemirror_mode": {
    "name": "ipython",
    "version": 3
   },
   "file_extension": ".py",
   "mimetype": "text/x-python",
   "name": "python",
   "nbconvert_exporter": "python",
   "pygments_lexer": "ipython3",
   "version": "3.11.2"
  },
  "orig_nbformat": 4
 },
 "nbformat": 4,
 "nbformat_minor": 2
}
